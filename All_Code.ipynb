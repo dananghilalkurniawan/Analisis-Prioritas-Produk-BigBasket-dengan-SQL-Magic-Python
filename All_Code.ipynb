{
 "cells": [
  {
   "cell_type": "markdown",
   "id": "d4615f17-3d16-4aeb-95c9-a52d712cfc8c",
   "metadata": {},
   "source": [
    "# Step 1: Setup Environment & Load Dataset"
   ]
  },
  {
   "cell_type": "markdown",
   "id": "20cd4945-b874-49bd-8312-d6f1ef4ddaf6",
   "metadata": {},
   "source": [
    "## Langkah 1.1: Install dan Load SQL Magic"
   ]
  },
  {
   "cell_type": "code",
   "execution_count": 4,
   "id": "ddab0bae-6494-4815-acd1-49f3a55eddc1",
   "metadata": {},
   "outputs": [],
   "source": [
    "%load_ext sql"
   ]
  },
  {
   "cell_type": "markdown",
   "id": "9e05af76-6c6c-4955-a728-eaa0d53abee6",
   "metadata": {},
   "source": [
    "## Langkah 1.2: Buat dan Sambungkan ke SQLite Database"
   ]
  },
  {
   "cell_type": "code",
   "execution_count": 7,
   "id": "ff91efcc-4eaf-4c0b-8f05-435acc12ace0",
   "metadata": {},
   "outputs": [],
   "source": [
    "%sql sqlite:///products.db"
   ]
  },
  {
   "cell_type": "markdown",
   "id": "9868f09e-247a-4f47-984e-b1bb442a567f",
   "metadata": {},
   "source": [
    "## Langkah 1.3: Load CSV ke Pandas lalu Simpan ke SQLite"
   ]
  },
  {
   "cell_type": "code",
   "execution_count": 10,
   "id": "666fd825-97f2-46cd-919e-45303ef47652",
   "metadata": {},
   "outputs": [],
   "source": [
    "import pandas as pd\n",
    "import sqlite3"
   ]
  },
  {
   "cell_type": "code",
   "execution_count": 26,
   "id": "e419f754-a241-46db-ac7f-9ed64ee742a6",
   "metadata": {},
   "outputs": [
    {
     "data": {
      "text/html": [
       "<div>\n",
       "<style scoped>\n",
       "    .dataframe tbody tr th:only-of-type {\n",
       "        vertical-align: middle;\n",
       "    }\n",
       "\n",
       "    .dataframe tbody tr th {\n",
       "        vertical-align: top;\n",
       "    }\n",
       "\n",
       "    .dataframe thead th {\n",
       "        text-align: right;\n",
       "    }\n",
       "</style>\n",
       "<table border=\"1\" class=\"dataframe\">\n",
       "  <thead>\n",
       "    <tr style=\"text-align: right;\">\n",
       "      <th></th>\n",
       "      <th>index</th>\n",
       "      <th>product</th>\n",
       "      <th>category</th>\n",
       "      <th>sub_category</th>\n",
       "      <th>brand</th>\n",
       "      <th>sale_price</th>\n",
       "      <th>market_price</th>\n",
       "      <th>type</th>\n",
       "      <th>rating</th>\n",
       "      <th>description</th>\n",
       "    </tr>\n",
       "  </thead>\n",
       "  <tbody>\n",
       "    <tr>\n",
       "      <th>0</th>\n",
       "      <td>1</td>\n",
       "      <td>Garlic Oil - Vegetarian Capsule 500 mg</td>\n",
       "      <td>Beauty &amp; Hygiene</td>\n",
       "      <td>Hair Care</td>\n",
       "      <td>Sri Sri Ayurveda</td>\n",
       "      <td>220.0</td>\n",
       "      <td>220.0</td>\n",
       "      <td>Hair Oil &amp; Serum</td>\n",
       "      <td>4.1</td>\n",
       "      <td>This Product contains Garlic Oil that is known...</td>\n",
       "    </tr>\n",
       "    <tr>\n",
       "      <th>1</th>\n",
       "      <td>2</td>\n",
       "      <td>Water Bottle - Orange</td>\n",
       "      <td>Kitchen, Garden &amp; Pets</td>\n",
       "      <td>Storage &amp; Accessories</td>\n",
       "      <td>Mastercook</td>\n",
       "      <td>180.0</td>\n",
       "      <td>180.0</td>\n",
       "      <td>Water &amp; Fridge Bottles</td>\n",
       "      <td>2.3</td>\n",
       "      <td>Each product is microwave safe (without lid), ...</td>\n",
       "    </tr>\n",
       "    <tr>\n",
       "      <th>2</th>\n",
       "      <td>3</td>\n",
       "      <td>Brass Angle Deep - Plain, No.2</td>\n",
       "      <td>Cleaning &amp; Household</td>\n",
       "      <td>Pooja Needs</td>\n",
       "      <td>Trm</td>\n",
       "      <td>119.0</td>\n",
       "      <td>250.0</td>\n",
       "      <td>Lamp &amp; Lamp Oil</td>\n",
       "      <td>3.4</td>\n",
       "      <td>A perfect gift for all occasions, be it your m...</td>\n",
       "    </tr>\n",
       "    <tr>\n",
       "      <th>3</th>\n",
       "      <td>4</td>\n",
       "      <td>Cereal Flip Lid Container/Storage Jar - Assort...</td>\n",
       "      <td>Cleaning &amp; Household</td>\n",
       "      <td>Bins &amp; Bathroom Ware</td>\n",
       "      <td>Nakoda</td>\n",
       "      <td>149.0</td>\n",
       "      <td>176.0</td>\n",
       "      <td>Laundry, Storage Baskets</td>\n",
       "      <td>3.7</td>\n",
       "      <td>Multipurpose container with an attractive desi...</td>\n",
       "    </tr>\n",
       "    <tr>\n",
       "      <th>4</th>\n",
       "      <td>5</td>\n",
       "      <td>Creme Soft Soap - For Hands &amp; Body</td>\n",
       "      <td>Beauty &amp; Hygiene</td>\n",
       "      <td>Bath &amp; Hand Wash</td>\n",
       "      <td>Nivea</td>\n",
       "      <td>162.0</td>\n",
       "      <td>162.0</td>\n",
       "      <td>Bathing Bars &amp; Soaps</td>\n",
       "      <td>4.4</td>\n",
       "      <td>Nivea Creme Soft Soap gives your skin the best...</td>\n",
       "    </tr>\n",
       "  </tbody>\n",
       "</table>\n",
       "</div>"
      ],
      "text/plain": [
       "   index                                            product  \\\n",
       "0      1             Garlic Oil - Vegetarian Capsule 500 mg   \n",
       "1      2                              Water Bottle - Orange   \n",
       "2      3                     Brass Angle Deep - Plain, No.2   \n",
       "3      4  Cereal Flip Lid Container/Storage Jar - Assort...   \n",
       "4      5                 Creme Soft Soap - For Hands & Body   \n",
       "\n",
       "                 category           sub_category              brand  \\\n",
       "0        Beauty & Hygiene              Hair Care  Sri Sri Ayurveda    \n",
       "1  Kitchen, Garden & Pets  Storage & Accessories         Mastercook   \n",
       "2    Cleaning & Household            Pooja Needs                Trm   \n",
       "3    Cleaning & Household   Bins & Bathroom Ware             Nakoda   \n",
       "4        Beauty & Hygiene       Bath & Hand Wash              Nivea   \n",
       "\n",
       "   sale_price  market_price                      type  rating  \\\n",
       "0       220.0         220.0          Hair Oil & Serum     4.1   \n",
       "1       180.0         180.0    Water & Fridge Bottles     2.3   \n",
       "2       119.0         250.0           Lamp & Lamp Oil     3.4   \n",
       "3       149.0         176.0  Laundry, Storage Baskets     3.7   \n",
       "4       162.0         162.0      Bathing Bars & Soaps     4.4   \n",
       "\n",
       "                                         description  \n",
       "0  This Product contains Garlic Oil that is known...  \n",
       "1  Each product is microwave safe (without lid), ...  \n",
       "2  A perfect gift for all occasions, be it your m...  \n",
       "3  Multipurpose container with an attractive desi...  \n",
       "4  Nivea Creme Soft Soap gives your skin the best...  "
      ]
     },
     "execution_count": 26,
     "metadata": {},
     "output_type": "execute_result"
    }
   ],
   "source": [
    "df = pd.read_csv(\"Downloads/BigBasket_Products.csv\")\n",
    "\n",
    "df.head()"
   ]
  },
  {
   "cell_type": "code",
   "execution_count": 14,
   "id": "3e0e9cd0-d0d1-4139-9768-c6a09d528d47",
   "metadata": {},
   "outputs": [],
   "source": [
    "# Pastikan nama kolom tidak ada spasi, jika iya ubah:\n",
    "df.columns = df.columns.str.strip().str.lower().str.replace(\" \", \"_\")"
   ]
  },
  {
   "cell_type": "markdown",
   "id": "019252ee-6ca6-4453-9cda-3c005362693c",
   "metadata": {},
   "source": [
    "### Koneksi ke SQLite dan simpan ke DB:"
   ]
  },
  {
   "cell_type": "code",
   "execution_count": 21,
   "id": "d3035325-d4f9-494a-94b1-f9b1d9cb7a17",
   "metadata": {},
   "outputs": [
    {
     "data": {
      "text/plain": [
       "27555"
      ]
     },
     "execution_count": 21,
     "metadata": {},
     "output_type": "execute_result"
    }
   ],
   "source": [
    "conn = sqlite3.connect(\"products.db\")\n",
    "df.to_sql(\"products\", conn, if_exists=\"replace\", index=False)"
   ]
  },
  {
   "cell_type": "markdown",
   "id": "e396c488-0924-4de9-b47e-c3954c5164c3",
   "metadata": {},
   "source": [
    "## Langkah 1.4: Uji Koneksi SQL di Jupyter"
   ]
  },
  {
   "cell_type": "code",
   "execution_count": 24,
   "id": "b7780843-877b-40ca-9281-737a3cf6699a",
   "metadata": {},
   "outputs": [
    {
     "name": "stdout",
     "output_type": "stream",
     "text": [
      " * sqlite:///products.db\n",
      "Done.\n"
     ]
    },
    {
     "data": {
      "text/html": [
       "<table>\n",
       "    <thead>\n",
       "        <tr>\n",
       "            <th>index</th>\n",
       "            <th>product</th>\n",
       "            <th>category</th>\n",
       "            <th>sub_category</th>\n",
       "            <th>brand</th>\n",
       "            <th>sale_price</th>\n",
       "            <th>market_price</th>\n",
       "            <th>type</th>\n",
       "            <th>rating</th>\n",
       "            <th>description</th>\n",
       "        </tr>\n",
       "    </thead>\n",
       "    <tbody>\n",
       "        <tr>\n",
       "            <td>1</td>\n",
       "            <td>Garlic Oil - Vegetarian Capsule 500 mg</td>\n",
       "            <td>Beauty &amp; Hygiene</td>\n",
       "            <td>Hair Care</td>\n",
       "            <td>Sri Sri Ayurveda </td>\n",
       "            <td>220.0</td>\n",
       "            <td>220.0</td>\n",
       "            <td>Hair Oil &amp; Serum</td>\n",
       "            <td>4.1</td>\n",
       "            <td>This Product contains Garlic Oil that is known to help proper digestion, maintain proper cholesterol levels, support cardiovascular and also build immunity.  For Beauty tips, tricks &amp; more visit https://bigbasket.blog/</td>\n",
       "        </tr>\n",
       "        <tr>\n",
       "            <td>2</td>\n",
       "            <td>Water Bottle - Orange</td>\n",
       "            <td>Kitchen, Garden &amp; Pets</td>\n",
       "            <td>Storage &amp; Accessories</td>\n",
       "            <td>Mastercook</td>\n",
       "            <td>180.0</td>\n",
       "            <td>180.0</td>\n",
       "            <td>Water &amp; Fridge Bottles</td>\n",
       "            <td>2.3</td>\n",
       "            <td>Each product is microwave safe (without lid), refrigerator safe, dishwasher safe and can also be used for re-heating food and not for cooking. All containers come with airtight lids and a wide variety of attractive colours. Stack these stylish and colourful containers in your kitchen with ease and for a look-good factor.</td>\n",
       "        </tr>\n",
       "        <tr>\n",
       "            <td>3</td>\n",
       "            <td>Brass Angle Deep - Plain, No.2</td>\n",
       "            <td>Cleaning &amp; Household</td>\n",
       "            <td>Pooja Needs</td>\n",
       "            <td>Trm</td>\n",
       "            <td>119.0</td>\n",
       "            <td>250.0</td>\n",
       "            <td>Lamp &amp; Lamp Oil</td>\n",
       "            <td>3.4</td>\n",
       "            <td>A perfect gift for all occasions, be it your mother, sister, in-laws, boss or your friends, this beautiful designer piece wherever placed, is sure to beautify the surroundings Traditional design This type diya has been used for Diwali and All other Festivals for centuries. Sturdy and easy to carry The feet keep it balanced to ensure safety. Wonderful Oil Lamp made in Brass also called as Jyoti. This is a handcrafted piece of Indian brass Deepak.</td>\n",
       "        </tr>\n",
       "        <tr>\n",
       "            <td>4</td>\n",
       "            <td>Cereal Flip Lid Container/Storage Jar - Assorted Colour</td>\n",
       "            <td>Cleaning &amp; Household</td>\n",
       "            <td>Bins &amp; Bathroom Ware</td>\n",
       "            <td>Nakoda</td>\n",
       "            <td>149.0</td>\n",
       "            <td>176.0</td>\n",
       "            <td>Laundry, Storage Baskets</td>\n",
       "            <td>3.7</td>\n",
       "            <td>Multipurpose container with an attractive design and made from food-grade plastic for your hygiene and safety ideal for storing pulses. Grains, spices, and more with easy opening and closing flip-open lid. Strong, durable and transparent body for longevity and easy identification of contents. Multipurpose storage solution for your daily needs stores your everyday food essentials in style with the Nakoda container set. With transparent bodies, you can easily identify your stored items without having to open the lids. These containers are ideal for storing a large variety of items such as food grains, snacks and pulses to sugar, spices, condiments and more. Featuring unique flip-open lids, you can easily open and close this container without any hassles.<br>The Nakoda container is made from high-quality food-grade and BPA-free plastic that is 100% safe for storing food items. You can safely store your food items in this container without worrying about contamination and harmful toxins. As they are constructed using highly durable virgin plastic, this container will last for a long time even with regular use. This container can enhance the overall look of your kitchen decor. Being dishwasher safe, cleaning and maintaining this container is an easy task. You can also use a simple soap solution to manually wash and retain their looks for a long time.</td>\n",
       "        </tr>\n",
       "        <tr>\n",
       "            <td>5</td>\n",
       "            <td>Creme Soft Soap - For Hands &amp; Body</td>\n",
       "            <td>Beauty &amp; Hygiene</td>\n",
       "            <td>Bath &amp; Hand Wash</td>\n",
       "            <td>Nivea</td>\n",
       "            <td>162.0</td>\n",
       "            <td>162.0</td>\n",
       "            <td>Bathing Bars &amp; Soaps</td>\n",
       "            <td>4.4</td>\n",
       "            <td>Nivea Creme Soft Soap gives your skin the best care that it must get. The soft bar consists of Vitamins F and Almonds which are really skin gracious and help you get great skin. It provides the skin with moisture and leaves behind flawless and smooth skin. It makes sure that your body is totally free of germs &amp; dirt and at the same time well nourished.For Beauty tips, tricks &amp; more visit https://bigbasket.blog/</td>\n",
       "        </tr>\n",
       "    </tbody>\n",
       "</table>"
      ],
      "text/plain": [
       "[(1, 'Garlic Oil - Vegetarian Capsule 500 mg', 'Beauty & Hygiene', 'Hair Care', 'Sri Sri Ayurveda ', 220.0, 220.0, 'Hair Oil & Serum', 4.1, 'This Product contains Garlic Oil that is known to help proper digestion, maintain proper cholesterol levels, support cardiovascular and also build immunity.  For Beauty tips, tricks & more visit https://bigbasket.blog/'),\n",
       " (2, 'Water Bottle - Orange', 'Kitchen, Garden & Pets', 'Storage & Accessories', 'Mastercook', 180.0, 180.0, 'Water & Fridge Bottles', 2.3, 'Each product is microwave safe (without lid), refrigerator safe, dishwasher safe and can also be used for re-heating food and not for cooking. All co ... (24 characters truncated) ... ght lids and a wide variety of attractive colours. Stack these stylish and colourful containers in your kitchen with ease and for a look-good factor.'),\n",
       " (3, 'Brass Angle Deep - Plain, No.2', 'Cleaning & Household', 'Pooja Needs', 'Trm', 119.0, 250.0, 'Lamp & Lamp Oil', 3.4, 'A perfect gift for all occasions, be it your mother, sister, in-laws, boss or your friends, this beautiful designer piece wherever placed, is sure to ... (151 characters truncated) ... he feet keep it balanced to ensure safety. Wonderful Oil Lamp made in Brass also called as Jyoti. This is a handcrafted piece of Indian brass Deepak.'),\n",
       " (4, 'Cereal Flip Lid Container/Storage Jar - Assorted Colour', 'Cleaning & Household', 'Bins & Bathroom Ware', 'Nakoda', 149.0, 176.0, 'Laundry, Storage Baskets', 3.7, 'Multipurpose container with an attractive design and made from food-grade plastic for your hygiene and safety ideal for storing pulses. Grains, spice ... (1067 characters truncated) ... ning and maintaining this container is an easy task. You can also use a simple soap solution to manually wash and retain their looks for a long time.'),\n",
       " (5, 'Creme Soft Soap - For Hands & Body', 'Beauty & Hygiene', 'Bath & Hand Wash', 'Nivea', 162.0, 162.0, 'Bathing Bars & Soaps', 4.4, 'Nivea Creme Soft Soap gives your skin the best care that it must get. The soft bar consists of Vitamins F and Almonds which are really skin gracious  ... (116 characters truncated) ...  sure that your body is totally free of germs & dirt and at the same time well nourished.For Beauty tips, tricks & more visit https://bigbasket.blog/')]"
      ]
     },
     "execution_count": 24,
     "metadata": {},
     "output_type": "execute_result"
    }
   ],
   "source": [
    "%%sql\n",
    "SELECT * FROM products LIMIT 5;"
   ]
  },
  {
   "cell_type": "markdown",
   "id": "8da1be9d-5bd9-45a4-9a71-e2bae773f287",
   "metadata": {
    "jp-MarkdownHeadingCollapsed": true
   },
   "source": [
    "# Step 2: Exploratory Data Analysis (EDA)"
   ]
  },
  {
   "cell_type": "markdown",
   "id": "5ea52f4d-a6e6-454d-a904-c67b28c370cb",
   "metadata": {},
   "source": [
    "## Langkah 2.1: Lihat 5 Data Teratas"
   ]
  },
  {
   "cell_type": "code",
   "execution_count": 30,
   "id": "146ee11f-e1e5-4116-9892-fa5ad29dc3f8",
   "metadata": {},
   "outputs": [
    {
     "name": "stdout",
     "output_type": "stream",
     "text": [
      " * sqlite:///products.db\n",
      "Done.\n"
     ]
    },
    {
     "data": {
      "text/html": [
       "<table>\n",
       "    <thead>\n",
       "        <tr>\n",
       "            <th>index</th>\n",
       "            <th>product</th>\n",
       "            <th>category</th>\n",
       "            <th>sub_category</th>\n",
       "            <th>brand</th>\n",
       "            <th>sale_price</th>\n",
       "            <th>market_price</th>\n",
       "            <th>type</th>\n",
       "            <th>rating</th>\n",
       "            <th>description</th>\n",
       "        </tr>\n",
       "    </thead>\n",
       "    <tbody>\n",
       "        <tr>\n",
       "            <td>1</td>\n",
       "            <td>Garlic Oil - Vegetarian Capsule 500 mg</td>\n",
       "            <td>Beauty &amp; Hygiene</td>\n",
       "            <td>Hair Care</td>\n",
       "            <td>Sri Sri Ayurveda </td>\n",
       "            <td>220.0</td>\n",
       "            <td>220.0</td>\n",
       "            <td>Hair Oil &amp; Serum</td>\n",
       "            <td>4.1</td>\n",
       "            <td>This Product contains Garlic Oil that is known to help proper digestion, maintain proper cholesterol levels, support cardiovascular and also build immunity.  For Beauty tips, tricks &amp; more visit https://bigbasket.blog/</td>\n",
       "        </tr>\n",
       "        <tr>\n",
       "            <td>2</td>\n",
       "            <td>Water Bottle - Orange</td>\n",
       "            <td>Kitchen, Garden &amp; Pets</td>\n",
       "            <td>Storage &amp; Accessories</td>\n",
       "            <td>Mastercook</td>\n",
       "            <td>180.0</td>\n",
       "            <td>180.0</td>\n",
       "            <td>Water &amp; Fridge Bottles</td>\n",
       "            <td>2.3</td>\n",
       "            <td>Each product is microwave safe (without lid), refrigerator safe, dishwasher safe and can also be used for re-heating food and not for cooking. All containers come with airtight lids and a wide variety of attractive colours. Stack these stylish and colourful containers in your kitchen with ease and for a look-good factor.</td>\n",
       "        </tr>\n",
       "        <tr>\n",
       "            <td>3</td>\n",
       "            <td>Brass Angle Deep - Plain, No.2</td>\n",
       "            <td>Cleaning &amp; Household</td>\n",
       "            <td>Pooja Needs</td>\n",
       "            <td>Trm</td>\n",
       "            <td>119.0</td>\n",
       "            <td>250.0</td>\n",
       "            <td>Lamp &amp; Lamp Oil</td>\n",
       "            <td>3.4</td>\n",
       "            <td>A perfect gift for all occasions, be it your mother, sister, in-laws, boss or your friends, this beautiful designer piece wherever placed, is sure to beautify the surroundings Traditional design This type diya has been used for Diwali and All other Festivals for centuries. Sturdy and easy to carry The feet keep it balanced to ensure safety. Wonderful Oil Lamp made in Brass also called as Jyoti. This is a handcrafted piece of Indian brass Deepak.</td>\n",
       "        </tr>\n",
       "        <tr>\n",
       "            <td>4</td>\n",
       "            <td>Cereal Flip Lid Container/Storage Jar - Assorted Colour</td>\n",
       "            <td>Cleaning &amp; Household</td>\n",
       "            <td>Bins &amp; Bathroom Ware</td>\n",
       "            <td>Nakoda</td>\n",
       "            <td>149.0</td>\n",
       "            <td>176.0</td>\n",
       "            <td>Laundry, Storage Baskets</td>\n",
       "            <td>3.7</td>\n",
       "            <td>Multipurpose container with an attractive design and made from food-grade plastic for your hygiene and safety ideal for storing pulses. Grains, spices, and more with easy opening and closing flip-open lid. Strong, durable and transparent body for longevity and easy identification of contents. Multipurpose storage solution for your daily needs stores your everyday food essentials in style with the Nakoda container set. With transparent bodies, you can easily identify your stored items without having to open the lids. These containers are ideal for storing a large variety of items such as food grains, snacks and pulses to sugar, spices, condiments and more. Featuring unique flip-open lids, you can easily open and close this container without any hassles.<br>The Nakoda container is made from high-quality food-grade and BPA-free plastic that is 100% safe for storing food items. You can safely store your food items in this container without worrying about contamination and harmful toxins. As they are constructed using highly durable virgin plastic, this container will last for a long time even with regular use. This container can enhance the overall look of your kitchen decor. Being dishwasher safe, cleaning and maintaining this container is an easy task. You can also use a simple soap solution to manually wash and retain their looks for a long time.</td>\n",
       "        </tr>\n",
       "        <tr>\n",
       "            <td>5</td>\n",
       "            <td>Creme Soft Soap - For Hands &amp; Body</td>\n",
       "            <td>Beauty &amp; Hygiene</td>\n",
       "            <td>Bath &amp; Hand Wash</td>\n",
       "            <td>Nivea</td>\n",
       "            <td>162.0</td>\n",
       "            <td>162.0</td>\n",
       "            <td>Bathing Bars &amp; Soaps</td>\n",
       "            <td>4.4</td>\n",
       "            <td>Nivea Creme Soft Soap gives your skin the best care that it must get. The soft bar consists of Vitamins F and Almonds which are really skin gracious and help you get great skin. It provides the skin with moisture and leaves behind flawless and smooth skin. It makes sure that your body is totally free of germs &amp; dirt and at the same time well nourished.For Beauty tips, tricks &amp; more visit https://bigbasket.blog/</td>\n",
       "        </tr>\n",
       "    </tbody>\n",
       "</table>"
      ],
      "text/plain": [
       "[(1, 'Garlic Oil - Vegetarian Capsule 500 mg', 'Beauty & Hygiene', 'Hair Care', 'Sri Sri Ayurveda ', 220.0, 220.0, 'Hair Oil & Serum', 4.1, 'This Product contains Garlic Oil that is known to help proper digestion, maintain proper cholesterol levels, support cardiovascular and also build immunity.  For Beauty tips, tricks & more visit https://bigbasket.blog/'),\n",
       " (2, 'Water Bottle - Orange', 'Kitchen, Garden & Pets', 'Storage & Accessories', 'Mastercook', 180.0, 180.0, 'Water & Fridge Bottles', 2.3, 'Each product is microwave safe (without lid), refrigerator safe, dishwasher safe and can also be used for re-heating food and not for cooking. All co ... (24 characters truncated) ... ght lids and a wide variety of attractive colours. Stack these stylish and colourful containers in your kitchen with ease and for a look-good factor.'),\n",
       " (3, 'Brass Angle Deep - Plain, No.2', 'Cleaning & Household', 'Pooja Needs', 'Trm', 119.0, 250.0, 'Lamp & Lamp Oil', 3.4, 'A perfect gift for all occasions, be it your mother, sister, in-laws, boss or your friends, this beautiful designer piece wherever placed, is sure to ... (151 characters truncated) ... he feet keep it balanced to ensure safety. Wonderful Oil Lamp made in Brass also called as Jyoti. This is a handcrafted piece of Indian brass Deepak.'),\n",
       " (4, 'Cereal Flip Lid Container/Storage Jar - Assorted Colour', 'Cleaning & Household', 'Bins & Bathroom Ware', 'Nakoda', 149.0, 176.0, 'Laundry, Storage Baskets', 3.7, 'Multipurpose container with an attractive design and made from food-grade plastic for your hygiene and safety ideal for storing pulses. Grains, spice ... (1067 characters truncated) ... ning and maintaining this container is an easy task. You can also use a simple soap solution to manually wash and retain their looks for a long time.'),\n",
       " (5, 'Creme Soft Soap - For Hands & Body', 'Beauty & Hygiene', 'Bath & Hand Wash', 'Nivea', 162.0, 162.0, 'Bathing Bars & Soaps', 4.4, 'Nivea Creme Soft Soap gives your skin the best care that it must get. The soft bar consists of Vitamins F and Almonds which are really skin gracious  ... (116 characters truncated) ...  sure that your body is totally free of germs & dirt and at the same time well nourished.For Beauty tips, tricks & more visit https://bigbasket.blog/')]"
      ]
     },
     "execution_count": 30,
     "metadata": {},
     "output_type": "execute_result"
    }
   ],
   "source": [
    "%%sql\n",
    "SELECT * FROM products LIMIT 5;"
   ]
  },
  {
   "cell_type": "markdown",
   "id": "d0d19629-20eb-416c-80c4-c4441d148f89",
   "metadata": {},
   "source": [
    "## Langkah 2.2: Cek Jumlah Baris Total"
   ]
  },
  {
   "cell_type": "code",
   "execution_count": 33,
   "id": "349e5c4e-850c-4c1d-86d5-8469bbd141c5",
   "metadata": {},
   "outputs": [
    {
     "name": "stdout",
     "output_type": "stream",
     "text": [
      " * sqlite:///products.db\n",
      "Done.\n"
     ]
    },
    {
     "data": {
      "text/html": [
       "<table>\n",
       "    <thead>\n",
       "        <tr>\n",
       "            <th>total_rows</th>\n",
       "        </tr>\n",
       "    </thead>\n",
       "    <tbody>\n",
       "        <tr>\n",
       "            <td>27555</td>\n",
       "        </tr>\n",
       "    </tbody>\n",
       "</table>"
      ],
      "text/plain": [
       "[(27555,)]"
      ]
     },
     "execution_count": 33,
     "metadata": {},
     "output_type": "execute_result"
    }
   ],
   "source": [
    "%%sql\n",
    "SELECT COUNT(*) AS total_rows FROM products;"
   ]
  },
  {
   "cell_type": "markdown",
   "id": "80c7aa48-d492-46c3-b3dd-5c738a3cd8b7",
   "metadata": {},
   "source": [
    "## Langkah 2.3: Cek Duplikat Berdasarkan Produk"
   ]
  },
  {
   "cell_type": "code",
   "execution_count": 62,
   "id": "d93904b2-4e49-43c9-8b1f-0d62f4e78360",
   "metadata": {},
   "outputs": [
    {
     "name": "stdout",
     "output_type": "stream",
     "text": [
      " * sqlite:///products.db\n",
      "Done.\n"
     ]
    },
    {
     "data": {
      "text/html": [
       "<table>\n",
       "    <thead>\n",
       "        <tr>\n",
       "            <th>product</th>\n",
       "            <th>count</th>\n",
       "        </tr>\n",
       "    </thead>\n",
       "    <tbody>\n",
       "    </tbody>\n",
       "</table>"
      ],
      "text/plain": [
       "[]"
      ]
     },
     "execution_count": 62,
     "metadata": {},
     "output_type": "execute_result"
    }
   ],
   "source": [
    "%%sql\n",
    "SELECT product, COUNT(*) AS count\n",
    "FROM products\n",
    "GROUP BY product\n",
    "HAVING COUNT(*) > 1;"
   ]
  },
  {
   "cell_type": "markdown",
   "id": "c8b39064-9a42-4f42-959c-9e9c4b48bbcd",
   "metadata": {},
   "source": [
    "### 2.3.1: Hapus Duplikat Berdasarkan Nama Produk"
   ]
  },
  {
   "cell_type": "code",
   "execution_count": 65,
   "id": "7762c790-9b83-4196-aa2c-699d576d56a0",
   "metadata": {},
   "outputs": [
    {
     "name": "stdout",
     "output_type": "stream",
     "text": [
      " * sqlite:///products.db\n",
      "0 rows affected.\n"
     ]
    },
    {
     "data": {
      "text/plain": [
       "[]"
      ]
     },
     "execution_count": 65,
     "metadata": {},
     "output_type": "execute_result"
    }
   ],
   "source": [
    "%%sql\n",
    "DELETE FROM products\n",
    "WHERE rowid NOT IN (\n",
    "    SELECT MIN(rowid)\n",
    "    FROM products\n",
    "    GROUP BY product\n",
    ");"
   ]
  },
  {
   "cell_type": "markdown",
   "id": "e1fd0556-a6cc-45fb-8929-c1299d173b2d",
   "metadata": {},
   "source": [
    "## Langkah 2.4: Cek Nilai NULL / Kosong di Setiap Kolom"
   ]
  },
  {
   "cell_type": "code",
   "execution_count": 73,
   "id": "db2f860e-226a-446a-b8c8-2275d3c7fa09",
   "metadata": {},
   "outputs": [
    {
     "name": "stdout",
     "output_type": "stream",
     "text": [
      " * sqlite:///products.db\n",
      "Done.\n"
     ]
    },
    {
     "data": {
      "text/html": [
       "<table>\n",
       "    <thead>\n",
       "        <tr>\n",
       "            <th>null_product</th>\n",
       "            <th>null_category</th>\n",
       "            <th>null_sub_category</th>\n",
       "            <th>null_brand</th>\n",
       "            <th>null_sale_price</th>\n",
       "            <th>null_market_price</th>\n",
       "            <th>null_rating</th>\n",
       "        </tr>\n",
       "    </thead>\n",
       "    <tbody>\n",
       "        <tr>\n",
       "            <td>0</td>\n",
       "            <td>0</td>\n",
       "            <td>0</td>\n",
       "            <td>0</td>\n",
       "            <td>0</td>\n",
       "            <td>0</td>\n",
       "            <td>0</td>\n",
       "        </tr>\n",
       "    </tbody>\n",
       "</table>"
      ],
      "text/plain": [
       "[(0, 0, 0, 0, 0, 0, 0)]"
      ]
     },
     "execution_count": 73,
     "metadata": {},
     "output_type": "execute_result"
    }
   ],
   "source": [
    "%%sql\n",
    "SELECT \n",
    "    SUM(CASE WHEN product IS NULL OR TRIM(product) = '' THEN 1 ELSE 0 END) AS null_product,\n",
    "    SUM(CASE WHEN category IS NULL OR TRIM(category) = '' THEN 1 ELSE 0 END) AS null_category,\n",
    "    SUM(CASE WHEN sub_category IS NULL OR TRIM(sub_category) = '' THEN 1 ELSE 0 END) AS null_sub_category,\n",
    "    SUM(CASE WHEN brand IS NULL OR TRIM(brand) = '' THEN 1 ELSE 0 END) AS null_brand,\n",
    "    SUM(CASE WHEN sale_price IS NULL THEN 1 ELSE 0 END) AS null_sale_price,\n",
    "    SUM(CASE WHEN market_price IS NULL THEN 1 ELSE 0 END) AS null_market_price,\n",
    "    SUM(CASE WHEN rating IS NULL THEN 1 ELSE 0 END) AS null_rating\n",
    "FROM products;"
   ]
  },
  {
   "cell_type": "markdown",
   "id": "533d1c87-b8a5-447b-96b2-1e90c7f8bd63",
   "metadata": {},
   "source": [
    "### 2.4.1: Hapus Baris dengan Kolom Penting yang Kosong"
   ]
  },
  {
   "cell_type": "code",
   "execution_count": 71,
   "id": "6170fe8d-b6b8-4741-89c2-7a16bf20bb82",
   "metadata": {},
   "outputs": [
    {
     "name": "stdout",
     "output_type": "stream",
     "text": [
      " * sqlite:///products.db\n",
      "7444 rows affected.\n"
     ]
    },
    {
     "data": {
      "text/plain": [
       "[]"
      ]
     },
     "execution_count": 71,
     "metadata": {},
     "output_type": "execute_result"
    }
   ],
   "source": [
    "%%sql\n",
    "DELETE FROM products\n",
    "WHERE \n",
    "    product IS NULL OR TRIM(product) = '' OR\n",
    "    category IS NULL OR TRIM(category) = '' OR\n",
    "    sub_category IS NULL OR TRIM(sub_category) = '' OR\n",
    "    brand IS NULL OR TRIM(brand) = '' OR\n",
    "    sale_price IS NULL OR\n",
    "    market_price IS NULL OR\n",
    "    rating IS NULL;"
   ]
  },
  {
   "cell_type": "markdown",
   "id": "d505df3d-1b08-4a2f-97a2-db47e762dd8c",
   "metadata": {},
   "source": [
    "## Langkah 2.5: Statistik Deskriptif Kolom Numerik"
   ]
  },
  {
   "cell_type": "code",
   "execution_count": 42,
   "id": "4c547d10-69e6-4f37-94d2-df422c563bd4",
   "metadata": {},
   "outputs": [
    {
     "name": "stdout",
     "output_type": "stream",
     "text": [
      " * sqlite:///products.db\n",
      "Done.\n"
     ]
    },
    {
     "data": {
      "text/html": [
       "<table>\n",
       "    <thead>\n",
       "        <tr>\n",
       "            <th>min_sale_price</th>\n",
       "            <th>max_sale_price</th>\n",
       "            <th>avg_sale_price</th>\n",
       "            <th>min_market_price</th>\n",
       "            <th>max_market_price</th>\n",
       "            <th>avg_market_price</th>\n",
       "            <th>min_rating</th>\n",
       "            <th>max_rating</th>\n",
       "            <th>avg_rating</th>\n",
       "        </tr>\n",
       "    </thead>\n",
       "    <tbody>\n",
       "        <tr>\n",
       "            <td>2.45</td>\n",
       "            <td>12500.0</td>\n",
       "            <td>322.51480783886655</td>\n",
       "            <td>3.0</td>\n",
       "            <td>12500.0</td>\n",
       "            <td>382.05666448920334</td>\n",
       "            <td>1.0</td>\n",
       "            <td>5.0</td>\n",
       "            <td>3.9434095831792573</td>\n",
       "        </tr>\n",
       "    </tbody>\n",
       "</table>"
      ],
      "text/plain": [
       "[(2.45, 12500.0, 322.51480783886655, 3.0, 12500.0, 382.05666448920334, 1.0, 5.0, 3.9434095831792573)]"
      ]
     },
     "execution_count": 42,
     "metadata": {},
     "output_type": "execute_result"
    }
   ],
   "source": [
    "%%sql\n",
    "SELECT \n",
    "    MIN(sale_price) AS min_sale_price,\n",
    "    MAX(sale_price) AS max_sale_price,\n",
    "    AVG(sale_price) AS avg_sale_price,\n",
    "    MIN(market_price) AS min_market_price,\n",
    "    MAX(market_price) AS max_market_price,\n",
    "    AVG(market_price) AS avg_market_price,\n",
    "    MIN(rating) AS min_rating,\n",
    "    MAX(rating) AS max_rating,\n",
    "    AVG(rating) AS avg_rating\n",
    "FROM products;"
   ]
  },
  {
   "cell_type": "markdown",
   "id": "f4714164-95c0-48ec-9430-24cb884dfbf6",
   "metadata": {},
   "source": [
    "## Langkah 2.6: Distribusi Produk per Kategori"
   ]
  },
  {
   "cell_type": "code",
   "execution_count": 45,
   "id": "a350273a-0378-446c-b3cd-691cbaf7cab4",
   "metadata": {},
   "outputs": [
    {
     "name": "stdout",
     "output_type": "stream",
     "text": [
      " * sqlite:///products.db\n",
      "Done.\n"
     ]
    },
    {
     "data": {
      "text/html": [
       "<table>\n",
       "    <thead>\n",
       "        <tr>\n",
       "            <th>category</th>\n",
       "            <th>total_products</th>\n",
       "        </tr>\n",
       "    </thead>\n",
       "    <tbody>\n",
       "        <tr>\n",
       "            <td>Beauty &amp; Hygiene</td>\n",
       "            <td>7867</td>\n",
       "        </tr>\n",
       "        <tr>\n",
       "            <td>Gourmet &amp; World Food</td>\n",
       "            <td>4690</td>\n",
       "        </tr>\n",
       "        <tr>\n",
       "            <td>Kitchen, Garden &amp; Pets</td>\n",
       "            <td>3580</td>\n",
       "        </tr>\n",
       "        <tr>\n",
       "            <td>Snacks &amp; Branded Foods</td>\n",
       "            <td>2814</td>\n",
       "        </tr>\n",
       "        <tr>\n",
       "            <td>Foodgrains, Oil &amp; Masala</td>\n",
       "            <td>2676</td>\n",
       "        </tr>\n",
       "        <tr>\n",
       "            <td>Cleaning &amp; Household</td>\n",
       "            <td>2675</td>\n",
       "        </tr>\n",
       "        <tr>\n",
       "            <td>Beverages</td>\n",
       "            <td>885</td>\n",
       "        </tr>\n",
       "        <tr>\n",
       "            <td>Bakery, Cakes &amp; Dairy</td>\n",
       "            <td>851</td>\n",
       "        </tr>\n",
       "        <tr>\n",
       "            <td>Baby Care</td>\n",
       "            <td>610</td>\n",
       "        </tr>\n",
       "        <tr>\n",
       "            <td>Fruits &amp; Vegetables</td>\n",
       "            <td>557</td>\n",
       "        </tr>\n",
       "        <tr>\n",
       "            <td>Eggs, Meat &amp; Fish</td>\n",
       "            <td>350</td>\n",
       "        </tr>\n",
       "    </tbody>\n",
       "</table>"
      ],
      "text/plain": [
       "[('Beauty & Hygiene', 7867),\n",
       " ('Gourmet & World Food', 4690),\n",
       " ('Kitchen, Garden & Pets', 3580),\n",
       " ('Snacks & Branded Foods', 2814),\n",
       " ('Foodgrains, Oil & Masala', 2676),\n",
       " ('Cleaning & Household', 2675),\n",
       " ('Beverages', 885),\n",
       " ('Bakery, Cakes & Dairy', 851),\n",
       " ('Baby Care', 610),\n",
       " ('Fruits & Vegetables', 557),\n",
       " ('Eggs, Meat & Fish', 350)]"
      ]
     },
     "execution_count": 45,
     "metadata": {},
     "output_type": "execute_result"
    }
   ],
   "source": [
    "%%sql\n",
    "SELECT category, COUNT(*) AS total_products\n",
    "FROM products\n",
    "GROUP BY category\n",
    "ORDER BY total_products DESC;"
   ]
  },
  {
   "cell_type": "markdown",
   "id": "028093d3-b0c6-4363-878d-7c11d662dd83",
   "metadata": {},
   "source": [
    "## Langkah 2.7: Top Brand Berdasarkan Jumlah Produk"
   ]
  },
  {
   "cell_type": "code",
   "execution_count": 48,
   "id": "e2832764-d670-4f81-a338-562d8146dcc5",
   "metadata": {},
   "outputs": [
    {
     "name": "stdout",
     "output_type": "stream",
     "text": [
      " * sqlite:///products.db\n",
      "Done.\n"
     ]
    },
    {
     "data": {
      "text/html": [
       "<table>\n",
       "    <thead>\n",
       "        <tr>\n",
       "            <th>brand</th>\n",
       "            <th>total_products</th>\n",
       "        </tr>\n",
       "    </thead>\n",
       "    <tbody>\n",
       "        <tr>\n",
       "            <td>Fresho</td>\n",
       "            <td>638</td>\n",
       "        </tr>\n",
       "        <tr>\n",
       "            <td>bb Royal</td>\n",
       "            <td>539</td>\n",
       "        </tr>\n",
       "        <tr>\n",
       "            <td>BB Home</td>\n",
       "            <td>428</td>\n",
       "        </tr>\n",
       "        <tr>\n",
       "            <td>DP</td>\n",
       "            <td>250</td>\n",
       "        </tr>\n",
       "        <tr>\n",
       "            <td>Fresho Signature</td>\n",
       "            <td>171</td>\n",
       "        </tr>\n",
       "        <tr>\n",
       "            <td>bb Combo</td>\n",
       "            <td>168</td>\n",
       "        </tr>\n",
       "        <tr>\n",
       "            <td>Amul</td>\n",
       "            <td>153</td>\n",
       "        </tr>\n",
       "        <tr>\n",
       "            <td>INATUR </td>\n",
       "            <td>146</td>\n",
       "        </tr>\n",
       "        <tr>\n",
       "            <td>Himalaya</td>\n",
       "            <td>141</td>\n",
       "        </tr>\n",
       "        <tr>\n",
       "            <td>Dabur</td>\n",
       "            <td>138</td>\n",
       "        </tr>\n",
       "    </tbody>\n",
       "</table>"
      ],
      "text/plain": [
       "[('Fresho', 638),\n",
       " ('bb Royal', 539),\n",
       " ('BB Home', 428),\n",
       " ('DP', 250),\n",
       " ('Fresho Signature', 171),\n",
       " ('bb Combo', 168),\n",
       " ('Amul', 153),\n",
       " ('INATUR ', 146),\n",
       " ('Himalaya', 141),\n",
       " ('Dabur', 138)]"
      ]
     },
     "execution_count": 48,
     "metadata": {},
     "output_type": "execute_result"
    }
   ],
   "source": [
    "%%sql\n",
    "SELECT brand, COUNT(*) AS total_products\n",
    "FROM products\n",
    "GROUP BY brand\n",
    "ORDER BY total_products DESC\n",
    "LIMIT 10;"
   ]
  },
  {
   "cell_type": "markdown",
   "id": "994d0cb0-9d01-48f9-9559-0cdc7cf96476",
   "metadata": {},
   "source": [
    "## Langkah 2.8: Produk dengan Harga Paling Mahal & Termurah"
   ]
  },
  {
   "cell_type": "code",
   "execution_count": 51,
   "id": "59ca12ff-0fe8-465c-8283-b82089edcbe7",
   "metadata": {},
   "outputs": [
    {
     "name": "stdout",
     "output_type": "stream",
     "text": [
      " * sqlite:///products.db\n",
      "Done.\n"
     ]
    },
    {
     "data": {
      "text/html": [
       "<table>\n",
       "    <thead>\n",
       "        <tr>\n",
       "            <th>product</th>\n",
       "            <th>sale_price</th>\n",
       "            <th>market_price</th>\n",
       "            <th>brand</th>\n",
       "        </tr>\n",
       "    </thead>\n",
       "    <tbody>\n",
       "        <tr>\n",
       "            <td>Bravura Clipper</td>\n",
       "            <td>12500.0</td>\n",
       "            <td>12500.0</td>\n",
       "            <td>Wahl</td>\n",
       "        </tr>\n",
       "        <tr>\n",
       "            <td>Pet Food - N&amp;D Team Breeder Puppy Top Farmina</td>\n",
       "            <td>10090.0</td>\n",
       "            <td>10090.0</td>\n",
       "            <td>Farmina</td>\n",
       "        </tr>\n",
       "        <tr>\n",
       "            <td>Epilator SE9-9961 Legs-Body-Face</td>\n",
       "            <td>8184.44</td>\n",
       "            <td>10769.0</td>\n",
       "            <td>Braun</td>\n",
       "        </tr>\n",
       "        <tr>\n",
       "            <td>Gas Stove-4 Burner Royale Plus Schott Glass, Black (40278)</td>\n",
       "            <td>7999.0</td>\n",
       "            <td>12245.0</td>\n",
       "            <td>Prestige</td>\n",
       "        </tr>\n",
       "        <tr>\n",
       "            <td>Extra Virgin Olive Oil</td>\n",
       "            <td>7299.0</td>\n",
       "            <td>7299.0</td>\n",
       "            <td>Abbies</td>\n",
       "        </tr>\n",
       "    </tbody>\n",
       "</table>"
      ],
      "text/plain": [
       "[('Bravura Clipper', 12500.0, 12500.0, 'Wahl'),\n",
       " ('Pet Food - N&D Team Breeder Puppy Top Farmina', 10090.0, 10090.0, 'Farmina'),\n",
       " ('Epilator SE9-9961 Legs-Body-Face', 8184.44, 10769.0, 'Braun'),\n",
       " ('Gas Stove-4 Burner Royale Plus Schott Glass, Black (40278)', 7999.0, 12245.0, 'Prestige'),\n",
       " ('Extra Virgin Olive Oil', 7299.0, 7299.0, 'Abbies')]"
      ]
     },
     "execution_count": 51,
     "metadata": {},
     "output_type": "execute_result"
    }
   ],
   "source": [
    "%%sql\n",
    "SELECT product, sale_price, market_price, brand\n",
    "FROM products\n",
    "ORDER BY sale_price DESC\n",
    "LIMIT 5;"
   ]
  },
  {
   "cell_type": "markdown",
   "id": "5b06a18d-d313-4221-8309-9bdef3f1de30",
   "metadata": {},
   "source": [
    "# Step 3: Margin Calculation & Normalization"
   ]
  },
  {
   "cell_type": "markdown",
   "id": "cbf7f01d-e185-43c0-a5e3-16d8109189ea",
   "metadata": {},
   "source": [
    "## Langkah 3.1: Tambahkan Kolom Margin"
   ]
  },
  {
   "cell_type": "code",
   "execution_count": 79,
   "id": "4c1e9e16-de04-4ee9-9049-91c4838f95aa",
   "metadata": {},
   "outputs": [
    {
     "name": "stdout",
     "output_type": "stream",
     "text": [
      " * sqlite:///products.db\n",
      "Done.\n"
     ]
    },
    {
     "data": {
      "text/plain": [
       "[]"
      ]
     },
     "execution_count": 79,
     "metadata": {},
     "output_type": "execute_result"
    }
   ],
   "source": [
    "%%sql\n",
    "ALTER TABLE products ADD COLUMN margin REAL;"
   ]
  },
  {
   "cell_type": "code",
   "execution_count": 81,
   "id": "b3db2604-0e7c-40ac-848b-27e80559f3a0",
   "metadata": {},
   "outputs": [
    {
     "name": "stdout",
     "output_type": "stream",
     "text": [
      " * sqlite:///products.db\n",
      "16097 rows affected.\n"
     ]
    },
    {
     "data": {
      "text/plain": [
       "[]"
      ]
     },
     "execution_count": 81,
     "metadata": {},
     "output_type": "execute_result"
    }
   ],
   "source": [
    "%%sql\n",
    "UPDATE products\n",
    "SET margin = market_price - sale_price;"
   ]
  },
  {
   "cell_type": "markdown",
   "id": "e2fc1374-e182-4e9e-b930-e3dcf4d54e2e",
   "metadata": {},
   "source": [
    "### Lihat margin tertinggi"
   ]
  },
  {
   "cell_type": "code",
   "execution_count": 84,
   "id": "39040a6d-1f86-45fe-9c6e-7f06863b74bc",
   "metadata": {},
   "outputs": [
    {
     "name": "stdout",
     "output_type": "stream",
     "text": [
      " * sqlite:///products.db\n",
      "Done.\n"
     ]
    },
    {
     "data": {
      "text/html": [
       "<table>\n",
       "    <thead>\n",
       "        <tr>\n",
       "            <th>product</th>\n",
       "            <th>brand</th>\n",
       "            <th>sale_price</th>\n",
       "            <th>market_price</th>\n",
       "            <th>margin</th>\n",
       "        </tr>\n",
       "    </thead>\n",
       "    <tbody>\n",
       "        <tr>\n",
       "            <td>Induction Base Non Stick Cookware Set With Glass Lid - Bling, Blue</td>\n",
       "            <td>Nirlon</td>\n",
       "            <td>1399.0</td>\n",
       "            <td>4999.0</td>\n",
       "            <td>3600.0</td>\n",
       "        </tr>\n",
       "        <tr>\n",
       "            <td>Induction Base Non Stick Cookware Set With Glass Lid &amp; Soft Touch Handle - Regal Purple</td>\n",
       "            <td>Nirlon</td>\n",
       "            <td>1499.0</td>\n",
       "            <td>4999.0</td>\n",
       "            <td>3500.0</td>\n",
       "        </tr>\n",
       "        <tr>\n",
       "            <td>Dinner Set - Laser Etched, Premium Stainless Steel, Glory</td>\n",
       "            <td>Classic Essentials</td>\n",
       "            <td>2499.0</td>\n",
       "            <td>5999.0</td>\n",
       "            <td>3500.0</td>\n",
       "        </tr>\n",
       "        <tr>\n",
       "            <td>Olive Oil - Extra Light</td>\n",
       "            <td>BORGES</td>\n",
       "            <td>2280.0</td>\n",
       "            <td>5200.0</td>\n",
       "            <td>2920.0</td>\n",
       "        </tr>\n",
       "        <tr>\n",
       "            <td>Starter Dry Dog Food - Ultra Premium</td>\n",
       "            <td>Canine Creek</td>\n",
       "            <td>4050.0</td>\n",
       "            <td>6750.0</td>\n",
       "            <td>2700.0</td>\n",
       "        </tr>\n",
       "    </tbody>\n",
       "</table>"
      ],
      "text/plain": [
       "[('Induction Base Non Stick Cookware Set With Glass Lid - Bling, Blue', 'Nirlon', 1399.0, 4999.0, 3600.0),\n",
       " ('Induction Base Non Stick Cookware Set With Glass Lid & Soft Touch Handle - Regal Purple', 'Nirlon', 1499.0, 4999.0, 3500.0),\n",
       " ('Dinner Set - Laser Etched, Premium Stainless Steel, Glory', 'Classic Essentials', 2499.0, 5999.0, 3500.0),\n",
       " ('Olive Oil - Extra Light', 'BORGES', 2280.0, 5200.0, 2920.0),\n",
       " ('Starter Dry Dog Food - Ultra Premium', 'Canine Creek', 4050.0, 6750.0, 2700.0)]"
      ]
     },
     "execution_count": 84,
     "metadata": {},
     "output_type": "execute_result"
    }
   ],
   "source": [
    "%%sql\n",
    "SELECT product, brand, sale_price, market_price, margin\n",
    "FROM products\n",
    "ORDER BY margin DESC\n",
    "LIMIT 5;"
   ]
  },
  {
   "cell_type": "markdown",
   "id": "bad85ba8-66d0-4740-acd6-48c9d754bd1d",
   "metadata": {},
   "source": [
    "## Langkah 3.2: Normalisasi Margin & Rating"
   ]
  },
  {
   "cell_type": "markdown",
   "id": "849e9eb9-4013-4b28-bb6a-419db9795e6f",
   "metadata": {},
   "source": [
    "### Langkah 3.2.1: Cek Min & Max Margin dan Rating"
   ]
  },
  {
   "cell_type": "code",
   "execution_count": 88,
   "id": "15bd1e49-8b9d-491a-8732-44f92fc00766",
   "metadata": {},
   "outputs": [
    {
     "name": "stdout",
     "output_type": "stream",
     "text": [
      " * sqlite:///products.db\n",
      "Done.\n"
     ]
    },
    {
     "data": {
      "text/html": [
       "<table>\n",
       "    <thead>\n",
       "        <tr>\n",
       "            <th>min_margin</th>\n",
       "            <th>max_margin</th>\n",
       "            <th>min_rating</th>\n",
       "            <th>max_rating</th>\n",
       "        </tr>\n",
       "    </thead>\n",
       "    <tbody>\n",
       "        <tr>\n",
       "            <td>0.0</td>\n",
       "            <td>3600.0</td>\n",
       "            <td>1.0</td>\n",
       "            <td>5.0</td>\n",
       "        </tr>\n",
       "    </tbody>\n",
       "</table>"
      ],
      "text/plain": [
       "[(0.0, 3600.0, 1.0, 5.0)]"
      ]
     },
     "execution_count": 88,
     "metadata": {},
     "output_type": "execute_result"
    }
   ],
   "source": [
    "%%sql\n",
    "SELECT \n",
    "    MIN(margin) AS min_margin, MAX(margin) AS max_margin,\n",
    "    MIN(rating) AS min_rating, MAX(rating) AS max_rating\n",
    "FROM products;"
   ]
  },
  {
   "cell_type": "markdown",
   "id": "ea30947d-0c1e-462a-b56e-cbf3730dc16a",
   "metadata": {},
   "source": [
    "### Langkah 3.2.2: Buat View dengan Normalisasi"
   ]
  },
  {
   "cell_type": "code",
   "execution_count": 91,
   "id": "ef4a793b-74c2-466b-9a56-47e83adc254e",
   "metadata": {},
   "outputs": [
    {
     "name": "stdout",
     "output_type": "stream",
     "text": [
      " * sqlite:///products.db\n",
      "Done.\n",
      "Done.\n"
     ]
    },
    {
     "data": {
      "text/plain": [
       "[]"
      ]
     },
     "execution_count": 91,
     "metadata": {},
     "output_type": "execute_result"
    }
   ],
   "source": [
    "%%sql\n",
    "DROP VIEW IF EXISTS normalized_products;\n",
    "\n",
    "CREATE VIEW normalized_products AS\n",
    "SELECT *,\n",
    "       -- Ganti angka di bawah dengan nilai aktual dari step sebelumnya\n",
    "       (CAST(margin AS FLOAT) - 0.0) / (500.0 - 0.0) AS norm_margin,\n",
    "       (CAST(rating AS FLOAT) - 1.0) / (5.0 - 1.0) AS norm_rating\n",
    "FROM products;"
   ]
  },
  {
   "cell_type": "markdown",
   "id": "e1e0ebd7-c0ca-4446-aaed-7da7ac68d8c3",
   "metadata": {},
   "source": [
    "## Langkah 3.3: Lihat Produk dengan Normalisasi"
   ]
  },
  {
   "cell_type": "code",
   "execution_count": 94,
   "id": "0ac7ce07-ea9f-4a97-9eaf-a0c850337357",
   "metadata": {},
   "outputs": [
    {
     "name": "stdout",
     "output_type": "stream",
     "text": [
      " * sqlite:///products.db\n",
      "Done.\n"
     ]
    },
    {
     "data": {
      "text/html": [
       "<table>\n",
       "    <thead>\n",
       "        <tr>\n",
       "            <th>product</th>\n",
       "            <th>brand</th>\n",
       "            <th>sale_price</th>\n",
       "            <th>market_price</th>\n",
       "            <th>rating</th>\n",
       "            <th>margin</th>\n",
       "            <th>norm_margin</th>\n",
       "            <th>norm_rating</th>\n",
       "        </tr>\n",
       "    </thead>\n",
       "    <tbody>\n",
       "        <tr>\n",
       "            <td>Induction Base Non Stick Cookware Set With Glass Lid - Bling, Blue</td>\n",
       "            <td>Nirlon</td>\n",
       "            <td>1399.0</td>\n",
       "            <td>4999.0</td>\n",
       "            <td>3.1</td>\n",
       "            <td>3600.0</td>\n",
       "            <td>7.2</td>\n",
       "            <td>0.525</td>\n",
       "        </tr>\n",
       "        <tr>\n",
       "            <td>Induction Base Non Stick Cookware Set With Glass Lid &amp; Soft Touch Handle - Regal Purple</td>\n",
       "            <td>Nirlon</td>\n",
       "            <td>1499.0</td>\n",
       "            <td>4999.0</td>\n",
       "            <td>3.2</td>\n",
       "            <td>3500.0</td>\n",
       "            <td>7.0</td>\n",
       "            <td>0.55</td>\n",
       "        </tr>\n",
       "        <tr>\n",
       "            <td>Dinner Set - Laser Etched, Premium Stainless Steel, Glory</td>\n",
       "            <td>Classic Essentials</td>\n",
       "            <td>2499.0</td>\n",
       "            <td>5999.0</td>\n",
       "            <td>3.4</td>\n",
       "            <td>3500.0</td>\n",
       "            <td>7.0</td>\n",
       "            <td>0.6</td>\n",
       "        </tr>\n",
       "        <tr>\n",
       "            <td>Olive Oil - Extra Light</td>\n",
       "            <td>BORGES</td>\n",
       "            <td>2280.0</td>\n",
       "            <td>5200.0</td>\n",
       "            <td>4.4</td>\n",
       "            <td>2920.0</td>\n",
       "            <td>5.84</td>\n",
       "            <td>0.85</td>\n",
       "        </tr>\n",
       "        <tr>\n",
       "            <td>Starter Dry Dog Food - Ultra Premium</td>\n",
       "            <td>Canine Creek</td>\n",
       "            <td>4050.0</td>\n",
       "            <td>6750.0</td>\n",
       "            <td>3.0</td>\n",
       "            <td>2700.0</td>\n",
       "            <td>5.4</td>\n",
       "            <td>0.5</td>\n",
       "        </tr>\n",
       "        <tr>\n",
       "            <td>Heavy Duty Ironing Board Cum Ladder - Grey, BB1437</td>\n",
       "            <td>DP</td>\n",
       "            <td>3419.0</td>\n",
       "            <td>5899.0</td>\n",
       "            <td>4.0</td>\n",
       "            <td>2480.0</td>\n",
       "            <td>4.96</td>\n",
       "            <td>0.75</td>\n",
       "        </tr>\n",
       "        <tr>\n",
       "            <td>Induction Base Non-Stick Cookware Set With Glass Lid - Blue</td>\n",
       "            <td>Nirlon</td>\n",
       "            <td>1549.0</td>\n",
       "            <td>3995.0</td>\n",
       "            <td>3.4</td>\n",
       "            <td>2446.0</td>\n",
       "            <td>4.892</td>\n",
       "            <td>0.6</td>\n",
       "        </tr>\n",
       "        <tr>\n",
       "            <td>Stainless Steel Dinner Set - Apple Shape, Laser + Hammered</td>\n",
       "            <td>Kitchen Essentials</td>\n",
       "            <td>3999.0</td>\n",
       "            <td>6440.0</td>\n",
       "            <td>5.0</td>\n",
       "            <td>2441.0</td>\n",
       "            <td>4.882</td>\n",
       "            <td>1.0</td>\n",
       "        </tr>\n",
       "        <tr>\n",
       "            <td>Olive OilÂ - Pure</td>\n",
       "            <td>Disano</td>\n",
       "            <td>2999.08</td>\n",
       "            <td>5395.0</td>\n",
       "            <td>4.5</td>\n",
       "            <td>2395.92</td>\n",
       "            <td>4.792</td>\n",
       "            <td>0.875</td>\n",
       "        </tr>\n",
       "        <tr>\n",
       "            <td>Non-Stick Cookware Set With Glass Lid &amp; Nylon Spoon-Granite Coating - Red</td>\n",
       "            <td>Nirlon</td>\n",
       "            <td>1149.0</td>\n",
       "            <td>3499.0</td>\n",
       "            <td>2.9</td>\n",
       "            <td>2350.0</td>\n",
       "            <td>4.7</td>\n",
       "            <td>0.475</td>\n",
       "        </tr>\n",
       "    </tbody>\n",
       "</table>"
      ],
      "text/plain": [
       "[('Induction Base Non Stick Cookware Set With Glass Lid - Bling, Blue', 'Nirlon', 1399.0, 4999.0, 3.1, 3600.0, 7.2, 0.525),\n",
       " ('Induction Base Non Stick Cookware Set With Glass Lid & Soft Touch Handle - Regal Purple', 'Nirlon', 1499.0, 4999.0, 3.2, 3500.0, 7.0, 0.55),\n",
       " ('Dinner Set - Laser Etched, Premium Stainless Steel, Glory', 'Classic Essentials', 2499.0, 5999.0, 3.4, 3500.0, 7.0, 0.6),\n",
       " ('Olive Oil - Extra Light', 'BORGES', 2280.0, 5200.0, 4.4, 2920.0, 5.84, 0.85),\n",
       " ('Starter Dry Dog Food - Ultra Premium', 'Canine Creek', 4050.0, 6750.0, 3.0, 2700.0, 5.4, 0.5),\n",
       " ('Heavy Duty Ironing Board Cum Ladder - Grey, BB1437', 'DP', 3419.0, 5899.0, 4.0, 2480.0, 4.96, 0.75),\n",
       " ('Induction Base Non-Stick Cookware Set With Glass Lid - Blue', 'Nirlon', 1549.0, 3995.0, 3.4, 2446.0, 4.892, 0.6),\n",
       " ('Stainless Steel Dinner Set - Apple Shape, Laser + Hammered', 'Kitchen Essentials', 3999.0, 6440.0, 5.0, 2441.0, 4.882, 1.0),\n",
       " ('Olive OilÂ\\xa0- Pure', 'Disano', 2999.08, 5395.0, 4.5, 2395.92, 4.792, 0.875),\n",
       " ('Non-Stick Cookware Set With Glass Lid & Nylon Spoon-Granite Coating - Red', 'Nirlon', 1149.0, 3499.0, 2.9, 2350.0, 4.7, 0.475)]"
      ]
     },
     "execution_count": 94,
     "metadata": {},
     "output_type": "execute_result"
    }
   ],
   "source": [
    "%%sql\n",
    "SELECT product, brand, sale_price, market_price, rating, margin, \n",
    "       ROUND(norm_margin, 3) AS norm_margin,\n",
    "       ROUND(norm_rating, 3) AS norm_rating\n",
    "FROM normalized_products\n",
    "ORDER BY norm_margin DESC\n",
    "LIMIT 10;"
   ]
  },
  {
   "cell_type": "markdown",
   "id": "56e6e937-be2b-422a-b5de-8c3c5684235f",
   "metadata": {
    "jp-MarkdownHeadingCollapsed": true
   },
   "source": [
    "# Step 4: Priority Score (Skor Prioritas Produk)"
   ]
  },
  {
   "cell_type": "markdown",
   "id": "424fbab8-adf3-4bb1-afdb-6655e0b407be",
   "metadata": {},
   "source": [
    "## Langkah 4.1: Buat View Dengan Skor Prioritas"
   ]
  },
  {
   "cell_type": "code",
   "execution_count": 98,
   "id": "13fdcc0a-6d95-4180-8cdb-7a0cb2d14b09",
   "metadata": {},
   "outputs": [
    {
     "name": "stdout",
     "output_type": "stream",
     "text": [
      " * sqlite:///products.db\n",
      "Done.\n",
      "Done.\n"
     ]
    },
    {
     "data": {
      "text/plain": [
       "[]"
      ]
     },
     "execution_count": 98,
     "metadata": {},
     "output_type": "execute_result"
    }
   ],
   "source": [
    "%%sql\n",
    "DROP VIEW IF EXISTS scored_products;\n",
    "\n",
    "CREATE VIEW scored_products AS\n",
    "SELECT *,\n",
    "       ROUND((0.6 * norm_margin + 0.4 * norm_rating), 4) AS priority_score\n",
    "FROM normalized_products;"
   ]
  },
  {
   "cell_type": "markdown",
   "id": "5f973054-268c-45f5-8520-a4acb10344ba",
   "metadata": {},
   "source": [
    "## Langkah 4.2: Tampilkan Top 10 Produk Prioritas"
   ]
  },
  {
   "cell_type": "code",
   "execution_count": 101,
   "id": "a2f3c579-d5b9-4da8-8be9-c5002f09867f",
   "metadata": {},
   "outputs": [
    {
     "name": "stdout",
     "output_type": "stream",
     "text": [
      " * sqlite:///products.db\n",
      "Done.\n"
     ]
    },
    {
     "data": {
      "text/html": [
       "<table>\n",
       "    <thead>\n",
       "        <tr>\n",
       "            <th>product</th>\n",
       "            <th>brand</th>\n",
       "            <th>category</th>\n",
       "            <th>sale_price</th>\n",
       "            <th>market_price</th>\n",
       "            <th>rating</th>\n",
       "            <th>margin</th>\n",
       "            <th>norm_margin</th>\n",
       "            <th>norm_rating</th>\n",
       "            <th>score</th>\n",
       "        </tr>\n",
       "    </thead>\n",
       "    <tbody>\n",
       "        <tr>\n",
       "            <td>Induction Base Non Stick Cookware Set With Glass Lid - Bling, Blue</td>\n",
       "            <td>Nirlon</td>\n",
       "            <td>Kitchen, Garden &amp; Pets</td>\n",
       "            <td>1399.0</td>\n",
       "            <td>4999.0</td>\n",
       "            <td>3.1</td>\n",
       "            <td>3600.0</td>\n",
       "            <td>7.2</td>\n",
       "            <td>0.525</td>\n",
       "            <td>4.53</td>\n",
       "        </tr>\n",
       "        <tr>\n",
       "            <td>Dinner Set - Laser Etched, Premium Stainless Steel, Glory</td>\n",
       "            <td>Classic Essentials</td>\n",
       "            <td>Kitchen, Garden &amp; Pets</td>\n",
       "            <td>2499.0</td>\n",
       "            <td>5999.0</td>\n",
       "            <td>3.4</td>\n",
       "            <td>3500.0</td>\n",
       "            <td>7.0</td>\n",
       "            <td>0.6</td>\n",
       "            <td>4.44</td>\n",
       "        </tr>\n",
       "        <tr>\n",
       "            <td>Induction Base Non Stick Cookware Set With Glass Lid &amp; Soft Touch Handle - Regal Purple</td>\n",
       "            <td>Nirlon</td>\n",
       "            <td>Kitchen, Garden &amp; Pets</td>\n",
       "            <td>1499.0</td>\n",
       "            <td>4999.0</td>\n",
       "            <td>3.2</td>\n",
       "            <td>3500.0</td>\n",
       "            <td>7.0</td>\n",
       "            <td>0.55</td>\n",
       "            <td>4.42</td>\n",
       "        </tr>\n",
       "        <tr>\n",
       "            <td>Olive Oil - Extra Light</td>\n",
       "            <td>BORGES</td>\n",
       "            <td>Gourmet &amp; World Food</td>\n",
       "            <td>2280.0</td>\n",
       "            <td>5200.0</td>\n",
       "            <td>4.4</td>\n",
       "            <td>2920.0</td>\n",
       "            <td>5.84</td>\n",
       "            <td>0.85</td>\n",
       "            <td>3.844</td>\n",
       "        </tr>\n",
       "        <tr>\n",
       "            <td>Starter Dry Dog Food - Ultra Premium</td>\n",
       "            <td>Canine Creek</td>\n",
       "            <td>Kitchen, Garden &amp; Pets</td>\n",
       "            <td>4050.0</td>\n",
       "            <td>6750.0</td>\n",
       "            <td>3.0</td>\n",
       "            <td>2700.0</td>\n",
       "            <td>5.4</td>\n",
       "            <td>0.5</td>\n",
       "            <td>3.44</td>\n",
       "        </tr>\n",
       "        <tr>\n",
       "            <td>Stainless Steel Dinner Set - Apple Shape, Laser + Hammered</td>\n",
       "            <td>Kitchen Essentials</td>\n",
       "            <td>Kitchen, Garden &amp; Pets</td>\n",
       "            <td>3999.0</td>\n",
       "            <td>6440.0</td>\n",
       "            <td>5.0</td>\n",
       "            <td>2441.0</td>\n",
       "            <td>4.882</td>\n",
       "            <td>1.0</td>\n",
       "            <td>3.329</td>\n",
       "        </tr>\n",
       "        <tr>\n",
       "            <td>Heavy Duty Ironing Board Cum Ladder - Grey, BB1437</td>\n",
       "            <td>DP</td>\n",
       "            <td>Kitchen, Garden &amp; Pets</td>\n",
       "            <td>3419.0</td>\n",
       "            <td>5899.0</td>\n",
       "            <td>4.0</td>\n",
       "            <td>2480.0</td>\n",
       "            <td>4.96</td>\n",
       "            <td>0.75</td>\n",
       "            <td>3.276</td>\n",
       "        </tr>\n",
       "        <tr>\n",
       "            <td>Olive OilÂ - Pure</td>\n",
       "            <td>Disano</td>\n",
       "            <td>Gourmet &amp; World Food</td>\n",
       "            <td>2999.08</td>\n",
       "            <td>5395.0</td>\n",
       "            <td>4.5</td>\n",
       "            <td>2395.92</td>\n",
       "            <td>4.792</td>\n",
       "            <td>0.875</td>\n",
       "            <td>3.225</td>\n",
       "        </tr>\n",
       "        <tr>\n",
       "            <td>Induction Base Non-Stick Cookware Set With Glass Lid - Blue</td>\n",
       "            <td>Nirlon</td>\n",
       "            <td>Kitchen, Garden &amp; Pets</td>\n",
       "            <td>1549.0</td>\n",
       "            <td>3995.0</td>\n",
       "            <td>3.4</td>\n",
       "            <td>2446.0</td>\n",
       "            <td>4.892</td>\n",
       "            <td>0.6</td>\n",
       "            <td>3.175</td>\n",
       "        </tr>\n",
       "        <tr>\n",
       "            <td>Non-Stick Cookware Set With Glass Lid &amp; Nylon Spoon-Granite Coating - Red</td>\n",
       "            <td>Nirlon</td>\n",
       "            <td>Kitchen, Garden &amp; Pets</td>\n",
       "            <td>1149.0</td>\n",
       "            <td>3499.0</td>\n",
       "            <td>2.9</td>\n",
       "            <td>2350.0</td>\n",
       "            <td>4.7</td>\n",
       "            <td>0.475</td>\n",
       "            <td>3.01</td>\n",
       "        </tr>\n",
       "    </tbody>\n",
       "</table>"
      ],
      "text/plain": [
       "[('Induction Base Non Stick Cookware Set With Glass Lid - Bling, Blue', 'Nirlon', 'Kitchen, Garden & Pets', 1399.0, 4999.0, 3.1, 3600.0, 7.2, 0.525, 4.53),\n",
       " ('Dinner Set - Laser Etched, Premium Stainless Steel, Glory', 'Classic Essentials', 'Kitchen, Garden & Pets', 2499.0, 5999.0, 3.4, 3500.0, 7.0, 0.6, 4.44),\n",
       " ('Induction Base Non Stick Cookware Set With Glass Lid & Soft Touch Handle - Regal Purple', 'Nirlon', 'Kitchen, Garden & Pets', 1499.0, 4999.0, 3.2, 3500.0, 7.0, 0.55, 4.42),\n",
       " ('Olive Oil - Extra Light', 'BORGES', 'Gourmet & World Food', 2280.0, 5200.0, 4.4, 2920.0, 5.84, 0.85, 3.844),\n",
       " ('Starter Dry Dog Food - Ultra Premium', 'Canine Creek', 'Kitchen, Garden & Pets', 4050.0, 6750.0, 3.0, 2700.0, 5.4, 0.5, 3.44),\n",
       " ('Stainless Steel Dinner Set - Apple Shape, Laser + Hammered', 'Kitchen Essentials', 'Kitchen, Garden & Pets', 3999.0, 6440.0, 5.0, 2441.0, 4.882, 1.0, 3.329),\n",
       " ('Heavy Duty Ironing Board Cum Ladder - Grey, BB1437', 'DP', 'Kitchen, Garden & Pets', 3419.0, 5899.0, 4.0, 2480.0, 4.96, 0.75, 3.276),\n",
       " ('Olive OilÂ\\xa0- Pure', 'Disano', 'Gourmet & World Food', 2999.08, 5395.0, 4.5, 2395.92, 4.792, 0.875, 3.225),\n",
       " ('Induction Base Non-Stick Cookware Set With Glass Lid - Blue', 'Nirlon', 'Kitchen, Garden & Pets', 1549.0, 3995.0, 3.4, 2446.0, 4.892, 0.6, 3.175),\n",
       " ('Non-Stick Cookware Set With Glass Lid & Nylon Spoon-Granite Coating - Red', 'Nirlon', 'Kitchen, Garden & Pets', 1149.0, 3499.0, 2.9, 2350.0, 4.7, 0.475, 3.01)]"
      ]
     },
     "execution_count": 101,
     "metadata": {},
     "output_type": "execute_result"
    }
   ],
   "source": [
    "%%sql\n",
    "SELECT product, brand, category, sale_price, market_price, rating, margin,\n",
    "       ROUND(norm_margin, 3) AS norm_margin,\n",
    "       ROUND(norm_rating, 3) AS norm_rating,\n",
    "       ROUND(priority_score, 3) AS score\n",
    "FROM scored_products\n",
    "ORDER BY priority_score DESC\n",
    "LIMIT 10;"
   ]
  },
  {
   "cell_type": "markdown",
   "id": "ad4fff19-e288-4ad1-b87e-08ee357d0102",
   "metadata": {},
   "source": [
    "## Langkah 4.3: Distribusi Skor per Kategori (opsional)"
   ]
  },
  {
   "cell_type": "code",
   "execution_count": 104,
   "id": "41d51594-03b4-4268-9186-1f1be2b692d8",
   "metadata": {},
   "outputs": [
    {
     "name": "stdout",
     "output_type": "stream",
     "text": [
      " * sqlite:///products.db\n",
      "Done.\n"
     ]
    },
    {
     "data": {
      "text/html": [
       "<table>\n",
       "    <thead>\n",
       "        <tr>\n",
       "            <th>category</th>\n",
       "            <th>total_products</th>\n",
       "            <th>avg_priority_score</th>\n",
       "        </tr>\n",
       "    </thead>\n",
       "    <tbody>\n",
       "        <tr>\n",
       "            <td>Kitchen, Garden &amp; Pets</td>\n",
       "            <td>2265</td>\n",
       "            <td>0.469</td>\n",
       "        </tr>\n",
       "        <tr>\n",
       "            <td>Baby Care</td>\n",
       "            <td>438</td>\n",
       "            <td>0.38</td>\n",
       "        </tr>\n",
       "        <tr>\n",
       "            <td>Beauty &amp; Hygiene</td>\n",
       "            <td>4667</td>\n",
       "            <td>0.372</td>\n",
       "        </tr>\n",
       "        <tr>\n",
       "            <td>Beverages</td>\n",
       "            <td>513</td>\n",
       "            <td>0.345</td>\n",
       "        </tr>\n",
       "        <tr>\n",
       "            <td>Cleaning &amp; Household</td>\n",
       "            <td>1901</td>\n",
       "            <td>0.335</td>\n",
       "        </tr>\n",
       "        <tr>\n",
       "            <td>Foodgrains, Oil &amp; Masala</td>\n",
       "            <td>1608</td>\n",
       "            <td>0.329</td>\n",
       "        </tr>\n",
       "        <tr>\n",
       "            <td>Gourmet &amp; World Food</td>\n",
       "            <td>2040</td>\n",
       "            <td>0.32</td>\n",
       "        </tr>\n",
       "        <tr>\n",
       "            <td>Snacks &amp; Branded Foods</td>\n",
       "            <td>2098</td>\n",
       "            <td>0.308</td>\n",
       "        </tr>\n",
       "        <tr>\n",
       "            <td>Bakery, Cakes &amp; Dairy</td>\n",
       "            <td>567</td>\n",
       "            <td>0.304</td>\n",
       "        </tr>\n",
       "    </tbody>\n",
       "</table>"
      ],
      "text/plain": [
       "[('Kitchen, Garden & Pets', 2265, 0.469),\n",
       " ('Baby Care', 438, 0.38),\n",
       " ('Beauty & Hygiene', 4667, 0.372),\n",
       " ('Beverages', 513, 0.345),\n",
       " ('Cleaning & Household', 1901, 0.335),\n",
       " ('Foodgrains, Oil & Masala', 1608, 0.329),\n",
       " ('Gourmet & World Food', 2040, 0.32),\n",
       " ('Snacks & Branded Foods', 2098, 0.308),\n",
       " ('Bakery, Cakes & Dairy', 567, 0.304)]"
      ]
     },
     "execution_count": 104,
     "metadata": {},
     "output_type": "execute_result"
    }
   ],
   "source": [
    "%%sql\n",
    "SELECT category,\n",
    "       COUNT(*) AS total_products,\n",
    "       ROUND(AVG(priority_score), 3) AS avg_priority_score\n",
    "FROM scored_products\n",
    "GROUP BY category\n",
    "ORDER BY avg_priority_score DESC;"
   ]
  },
  {
   "cell_type": "markdown",
   "id": "61fa0823-f766-4c2e-8af5-210ef800c4a3",
   "metadata": {
    "jp-MarkdownHeadingCollapsed": true
   },
   "source": [
    "# Step 5: Analisis Brand, Kategori & Kuadran Visualisasi"
   ]
  },
  {
   "cell_type": "markdown",
   "id": "6c574c6e-45b8-471a-9abf-6f2c649fc88e",
   "metadata": {},
   "source": [
    "## Langkah 5.1: Rata-Rata Skor per Brand dan Kategori"
   ]
  },
  {
   "cell_type": "markdown",
   "id": "ddbadaa6-88c1-4aeb-952e-f926b3a76c1d",
   "metadata": {},
   "source": [
    "### Rata-Rata per Brand"
   ]
  },
  {
   "cell_type": "code",
   "execution_count": 111,
   "id": "b341e169-e364-462d-a633-020dea4f4c51",
   "metadata": {},
   "outputs": [
    {
     "name": "stdout",
     "output_type": "stream",
     "text": [
      " * sqlite:///products.db\n",
      "Done.\n"
     ]
    },
    {
     "data": {
      "text/html": [
       "<table>\n",
       "    <thead>\n",
       "        <tr>\n",
       "            <th>brand</th>\n",
       "            <th>total_products</th>\n",
       "            <th>avg_priority_score</th>\n",
       "            <th>avg_margin</th>\n",
       "            <th>avg_rating</th>\n",
       "        </tr>\n",
       "    </thead>\n",
       "    <tbody>\n",
       "        <tr>\n",
       "            <td>Jaguar</td>\n",
       "            <td>6</td>\n",
       "            <td>2.029</td>\n",
       "            <td>1504.5</td>\n",
       "            <td>3.23</td>\n",
       "        </tr>\n",
       "        <tr>\n",
       "            <td>Canine Creek</td>\n",
       "            <td>3</td>\n",
       "            <td>1.749</td>\n",
       "            <td>1263.33</td>\n",
       "            <td>3.33</td>\n",
       "        </tr>\n",
       "        <tr>\n",
       "            <td>Classic Essentials</td>\n",
       "            <td>5</td>\n",
       "            <td>1.706</td>\n",
       "            <td>1228.0</td>\n",
       "            <td>3.32</td>\n",
       "        </tr>\n",
       "        <tr>\n",
       "            <td>Savera</td>\n",
       "            <td>3</td>\n",
       "            <td>1.689</td>\n",
       "            <td>1246.0</td>\n",
       "            <td>2.93</td>\n",
       "        </tr>\n",
       "        <tr>\n",
       "            <td>Nirlon</td>\n",
       "            <td>17</td>\n",
       "            <td>1.499</td>\n",
       "            <td>1042.12</td>\n",
       "            <td>3.48</td>\n",
       "        </tr>\n",
       "        <tr>\n",
       "            <td>Nova</td>\n",
       "            <td>21</td>\n",
       "            <td>1.443</td>\n",
       "            <td>1056.97</td>\n",
       "            <td>2.75</td>\n",
       "        </tr>\n",
       "        <tr>\n",
       "            <td>Lexton</td>\n",
       "            <td>8</td>\n",
       "            <td>1.368</td>\n",
       "            <td>950.75</td>\n",
       "            <td>3.28</td>\n",
       "        </tr>\n",
       "        <tr>\n",
       "            <td>Triones</td>\n",
       "            <td>4</td>\n",
       "            <td>1.355</td>\n",
       "            <td>981.0</td>\n",
       "            <td>2.78</td>\n",
       "        </tr>\n",
       "        <tr>\n",
       "            <td>Guess</td>\n",
       "            <td>5</td>\n",
       "            <td>1.339</td>\n",
       "            <td>874.2</td>\n",
       "            <td>3.9</td>\n",
       "        </tr>\n",
       "        <tr>\n",
       "            <td>Police</td>\n",
       "            <td>10</td>\n",
       "            <td>1.162</td>\n",
       "            <td>802.03</td>\n",
       "            <td>3.0</td>\n",
       "        </tr>\n",
       "    </tbody>\n",
       "</table>"
      ],
      "text/plain": [
       "[('Jaguar', 6, 2.029, 1504.5, 3.23),\n",
       " ('Canine Creek', 3, 1.749, 1263.33, 3.33),\n",
       " ('Classic Essentials', 5, 1.706, 1228.0, 3.32),\n",
       " ('Savera', 3, 1.689, 1246.0, 2.93),\n",
       " ('Nirlon', 17, 1.499, 1042.12, 3.48),\n",
       " ('Nova', 21, 1.443, 1056.97, 2.75),\n",
       " ('Lexton', 8, 1.368, 950.75, 3.28),\n",
       " ('Triones', 4, 1.355, 981.0, 2.78),\n",
       " ('Guess', 5, 1.339, 874.2, 3.9),\n",
       " ('Police', 10, 1.162, 802.03, 3.0)]"
      ]
     },
     "execution_count": 111,
     "metadata": {},
     "output_type": "execute_result"
    }
   ],
   "source": [
    "%%sql\n",
    "SELECT brand,\n",
    "       COUNT(*) AS total_products,\n",
    "       ROUND(AVG(priority_score), 3) AS avg_priority_score,\n",
    "       ROUND(AVG(margin), 2) AS avg_margin,\n",
    "       ROUND(AVG(rating), 2) AS avg_rating\n",
    "FROM scored_products\n",
    "GROUP BY brand\n",
    "HAVING total_products >= 3  -- filter out outlier brand kecil\n",
    "ORDER BY avg_priority_score DESC\n",
    "LIMIT 10;"
   ]
  },
  {
   "cell_type": "markdown",
   "id": "781f0992-c066-4a4f-b33a-0f0997848ab3",
   "metadata": {},
   "source": [
    "### Rata-Rata per Category"
   ]
  },
  {
   "cell_type": "code",
   "execution_count": 114,
   "id": "82e8dd3a-1d8b-44bc-b1e6-8ddd3ca5919c",
   "metadata": {},
   "outputs": [
    {
     "name": "stdout",
     "output_type": "stream",
     "text": [
      " * sqlite:///products.db\n",
      "Done.\n"
     ]
    },
    {
     "data": {
      "text/html": [
       "<table>\n",
       "    <thead>\n",
       "        <tr>\n",
       "            <th>category</th>\n",
       "            <th>total_products</th>\n",
       "            <th>avg_priority_score</th>\n",
       "        </tr>\n",
       "    </thead>\n",
       "    <tbody>\n",
       "        <tr>\n",
       "            <td>Kitchen, Garden &amp; Pets</td>\n",
       "            <td>2265</td>\n",
       "            <td>0.469</td>\n",
       "        </tr>\n",
       "        <tr>\n",
       "            <td>Baby Care</td>\n",
       "            <td>438</td>\n",
       "            <td>0.38</td>\n",
       "        </tr>\n",
       "        <tr>\n",
       "            <td>Beauty &amp; Hygiene</td>\n",
       "            <td>4667</td>\n",
       "            <td>0.372</td>\n",
       "        </tr>\n",
       "        <tr>\n",
       "            <td>Beverages</td>\n",
       "            <td>513</td>\n",
       "            <td>0.345</td>\n",
       "        </tr>\n",
       "        <tr>\n",
       "            <td>Cleaning &amp; Household</td>\n",
       "            <td>1901</td>\n",
       "            <td>0.335</td>\n",
       "        </tr>\n",
       "        <tr>\n",
       "            <td>Foodgrains, Oil &amp; Masala</td>\n",
       "            <td>1608</td>\n",
       "            <td>0.329</td>\n",
       "        </tr>\n",
       "        <tr>\n",
       "            <td>Gourmet &amp; World Food</td>\n",
       "            <td>2040</td>\n",
       "            <td>0.32</td>\n",
       "        </tr>\n",
       "        <tr>\n",
       "            <td>Snacks &amp; Branded Foods</td>\n",
       "            <td>2098</td>\n",
       "            <td>0.308</td>\n",
       "        </tr>\n",
       "        <tr>\n",
       "            <td>Bakery, Cakes &amp; Dairy</td>\n",
       "            <td>567</td>\n",
       "            <td>0.304</td>\n",
       "        </tr>\n",
       "    </tbody>\n",
       "</table>"
      ],
      "text/plain": [
       "[('Kitchen, Garden & Pets', 2265, 0.469),\n",
       " ('Baby Care', 438, 0.38),\n",
       " ('Beauty & Hygiene', 4667, 0.372),\n",
       " ('Beverages', 513, 0.345),\n",
       " ('Cleaning & Household', 1901, 0.335),\n",
       " ('Foodgrains, Oil & Masala', 1608, 0.329),\n",
       " ('Gourmet & World Food', 2040, 0.32),\n",
       " ('Snacks & Branded Foods', 2098, 0.308),\n",
       " ('Bakery, Cakes & Dairy', 567, 0.304)]"
      ]
     },
     "execution_count": 114,
     "metadata": {},
     "output_type": "execute_result"
    }
   ],
   "source": [
    "%%sql\n",
    "SELECT category,\n",
    "       COUNT(*) AS total_products,\n",
    "       ROUND(AVG(priority_score), 3) AS avg_priority_score\n",
    "FROM scored_products\n",
    "GROUP BY category\n",
    "ORDER BY avg_priority_score DESC;"
   ]
  },
  {
   "cell_type": "markdown",
   "id": "b5b040d5-48e1-4cac-af38-f14949b25abf",
   "metadata": {},
   "source": [
    "## Langkah 5.2: Identifikasi Produk Berdasarkan Kuadran"
   ]
  },
  {
   "cell_type": "markdown",
   "id": "cdca2f9d-6541-4396-9fef-0f258a39200b",
   "metadata": {},
   "source": [
    "### Dapatkan Rata-Rata Rating dan Margin (Untuk Batas Kuadran)"
   ]
  },
  {
   "cell_type": "code",
   "execution_count": 118,
   "id": "cdd6658f-8081-4802-b254-27be4f514a32",
   "metadata": {},
   "outputs": [
    {
     "name": "stdout",
     "output_type": "stream",
     "text": [
      " * sqlite:///products.db\n",
      "Done.\n"
     ]
    },
    {
     "data": {
      "text/html": [
       "<table>\n",
       "    <thead>\n",
       "        <tr>\n",
       "            <th>avg_rating</th>\n",
       "            <th>avg_margin</th>\n",
       "        </tr>\n",
       "    </thead>\n",
       "    <tbody>\n",
       "        <tr>\n",
       "            <td>3.93</td>\n",
       "            <td>54.82</td>\n",
       "        </tr>\n",
       "    </tbody>\n",
       "</table>"
      ],
      "text/plain": [
       "[(3.93, 54.82)]"
      ]
     },
     "execution_count": 118,
     "metadata": {},
     "output_type": "execute_result"
    }
   ],
   "source": [
    "%%sql\n",
    "SELECT ROUND(AVG(rating), 2) AS avg_rating,\n",
    "       ROUND(AVG(margin), 2) AS avg_margin\n",
    "FROM scored_products;"
   ]
  },
  {
   "cell_type": "markdown",
   "id": "1bd89202-8725-4a1d-a5f2-f2c2b79c58eb",
   "metadata": {},
   "source": [
    "### Buat Pandas DataFrame dari SQL untuk Visualisasi"
   ]
  },
  {
   "cell_type": "code",
   "execution_count": 121,
   "id": "4db22d4f-118c-4d80-bd28-1b2814d2844c",
   "metadata": {},
   "outputs": [
    {
     "name": "stdout",
     "output_type": "stream",
     "text": [
      " * sqlite:///products.db\n",
      "Done.\n"
     ]
    }
   ],
   "source": [
    "# Ambil data margin vs rating\n",
    "df_quad = %sql SELECT product, rating, margin, brand, category FROM scored_products\n",
    "df_quad = df_quad.DataFrame()\n",
    "\n",
    "# Tetapkan nilai tengah kuadran (ubah sesuai hasil query di atas)\n",
    "avg_rating = 3.8\n",
    "avg_margin = 30"
   ]
  },
  {
   "cell_type": "markdown",
   "id": "acde01ec-aa67-4b3c-8b82-33a1f3867696",
   "metadata": {},
   "source": [
    "### Labelkan Kuadran di Python"
   ]
  },
  {
   "cell_type": "code",
   "execution_count": 124,
   "id": "1c25a349-30e9-42ad-a27f-dfd553a5201e",
   "metadata": {},
   "outputs": [],
   "source": [
    "def kuadran(row):\n",
    "    if row['rating'] >= avg_rating and row['margin'] >= avg_margin:\n",
    "        return 'I: High Rating & High Margin'\n",
    "    elif row['rating'] >= avg_rating and row['margin'] < avg_margin:\n",
    "        return 'II: High Rating & Low Margin'\n",
    "    elif row['rating'] < avg_rating and row['margin'] < avg_margin:\n",
    "        return 'III: Low Rating & Low Margin'\n",
    "    else:\n",
    "        return 'IV: Low Rating & High Margin'\n",
    "\n",
    "df_quad['kuadran'] = df_quad.apply(kuadran, axis=1)"
   ]
  },
  {
   "cell_type": "markdown",
   "id": "03c4b11e-f172-435f-bf1c-8fa6d023ccb1",
   "metadata": {},
   "source": [
    "### Visualisasi Scatter Plot Kuadran"
   ]
  },
  {
   "cell_type": "code",
   "execution_count": 127,
   "id": "9d2f5b81-8208-49ae-812e-c9bbd6f43257",
   "metadata": {},
   "outputs": [
    {
     "data": {
      "image/png": "[encoded data removed]",
      "text/plain": [
       "<Figure size 1000x600 with 1 Axes>"
      ]
     },
     "metadata": {},
     "output_type": "display_data"
    }
   ],
   "source": [
    "import matplotlib.pyplot as plt\n",
    "import seaborn as sns\n",
    "\n",
    "plt.figure(figsize=(10, 6))\n",
    "sns.scatterplot(data=df_quad, x='margin', y='rating', hue='kuadran', palette='Set2', s=80)\n",
    "\n",
    "# Tambahkan garis rata-rata\n",
    "plt.axhline(avg_rating, color='gray', linestyle='--', label=f'Avg Rating ({avg_rating})')\n",
    "plt.axvline(avg_margin, color='gray', linestyle='--', label=f'Avg Margin ({avg_margin})')\n",
    "\n",
    "plt.title('Quadrant Analysis: Margin vs Rating')\n",
    "plt.xlabel('Margin (market_price - sale_price)')\n",
    "plt.ylabel('Rating')\n",
    "plt.legend()\n",
    "plt.grid(True)\n",
    "plt.tight_layout()\n",
    "plt.show()"
   ]
  },
  {
   "cell_type": "markdown",
   "id": "a793b12e-7c9a-45dd-bf10-9d501f4efd7b",
   "metadata": {},
   "source": [
    "# Step 6: Visualisasi Lanjutan dan Ringkasan Skor"
   ]
  },
  {
   "cell_type": "markdown",
   "id": "c3592009-d9ba-4ace-901d-203a28d08c22",
   "metadata": {},
   "source": [
    "## Langkah 6.1: Top 10 Produk Berdasarkan Priority Score"
   ]
  },
  {
   "cell_type": "code",
   "execution_count": 131,
   "id": "7edaa32e-b024-4185-9106-91549a3de0ef",
   "metadata": {},
   "outputs": [
    {
     "name": "stdout",
     "output_type": "stream",
     "text": [
      " * sqlite:///products.db\n",
      "Done.\n"
     ]
    },
    {
     "data": {
      "image/png": "[encoded data removed]",
      "text/plain": [
       "<Figure size 1000x600 with 1 Axes>"
      ]
     },
     "metadata": {},
     "output_type": "display_data"
    }
   ],
   "source": [
    "df_top10 = %sql SELECT product, brand, category, sale_price, market_price, rating, margin, ROUND(priority_score, 3) as score FROM scored_products ORDER BY priority_score DESC LIMIT 10\n",
    "df_top10 = df_top10.DataFrame()\n",
    "\n",
    "import matplotlib.pyplot as plt\n",
    "import seaborn as sns\n",
    "\n",
    "plt.figure(figsize=(10,6))\n",
    "sns.barplot(data=df_top10, x='score', y='product', palette='viridis')\n",
    "plt.title('Top 10 Produk Prioritas Tertinggi')\n",
    "plt.xlabel('Priority Score')\n",
    "plt.ylabel('Nama Produk')\n",
    "plt.tight_layout()\n",
    "plt.show()"
   ]
  },
  {
   "cell_type": "markdown",
   "id": "3e2b7c9d-0cb3-4e9f-8f79-8087ae951b57",
   "metadata": {},
   "source": [
    "## Langkah 6.2: Pie Chart Komposisi Kategori pada Top 20 Produk"
   ]
  },
  {
   "cell_type": "code",
   "execution_count": 134,
   "id": "16facde3-93f9-45be-ac32-1c4c35bcdbc0",
   "metadata": {},
   "outputs": [
    {
     "name": "stdout",
     "output_type": "stream",
     "text": [
      " * sqlite:///products.db\n",
      "Done.\n"
     ]
    },
    {
     "data": {
      "image/png": "[encoded data removed]",
      "text/plain": [
       "<Figure size 600x600 with 1 Axes>"
      ]
     },
     "metadata": {},
     "output_type": "display_data"
    }
   ],
   "source": [
    "df_top20 = %sql SELECT category FROM scored_products ORDER BY priority_score DESC LIMIT 20\n",
    "df_top20 = df_top20.DataFrame()\n",
    "\n",
    "plt.figure(figsize=(6,6))\n",
    "df_top20['category'].value_counts().plot.pie(autopct='%1.1f%%', startangle=90, cmap='Set3')\n",
    "plt.title('Distribusi Kategori Produk Top 20')\n",
    "plt.ylabel('')\n",
    "plt.tight_layout()\n",
    "plt.show()"
   ]
  },
  {
   "cell_type": "markdown",
   "id": "188c6ed1-ad15-4b54-9016-b667277ed6cf",
   "metadata": {},
   "source": [
    "## Langkah 6.3: Heatmap Korelasi"
   ]
  },
  {
   "cell_type": "code",
   "execution_count": 137,
   "id": "253b4410-e8b5-4af2-bc77-a025636b6f3e",
   "metadata": {},
   "outputs": [
    {
     "name": "stdout",
     "output_type": "stream",
     "text": [
      " * sqlite:///products.db\n",
      "Done.\n"
     ]
    },
    {
     "data": {
      "image/png": "[encoded data removed]",
      "text/plain": [
       "<Figure size 800x500 with 2 Axes>"
      ]
     },
     "metadata": {},
     "output_type": "display_data"
    }
   ],
   "source": [
    "df_corr = %sql SELECT sale_price, market_price, rating, margin, priority_score FROM scored_products\n",
    "df_corr = df_corr.DataFrame()\n",
    "\n",
    "plt.figure(figsize=(8,5))\n",
    "sns.heatmap(df_corr.corr(), annot=True, cmap='coolwarm', fmt='.2f')\n",
    "plt.title('Heatmap Korelasi Antar Variabel')\n",
    "plt.tight_layout()\n",
    "plt.show()"
   ]
  }
 ],
 "metadata": {
  "kernelspec": {
   "display_name": "Python 3 (ipykernel)",
   "language": "python",
   "name": "python3"
  },
  "language_info": {
   "codemirror_mode": {
    "name": "ipython",
    "version": 3
   },
   "file_extension": ".py",
   "mimetype": "text/x-python",
   "name": "python",
   "nbconvert_exporter": "python",
   "pygments_lexer": "ipython3",
   "version": "3.11.7"
  },
  "widgets": {
   "application/vnd.jupyter.widget-state+json": {
    "state": {},
    "version_major": 2,
    "version_minor": 0
   }
  }
 },
 "nbformat": 4,
 "nbformat_minor": 5
}
